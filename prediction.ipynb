{
 "cells": [
  {
   "cell_type": "code",
   "execution_count": 1,
   "metadata": {},
   "outputs": [
    {
     "name": "stdout",
     "output_type": "stream",
     "text": [
      "WARNING:tensorflow:From c:\\Users\\cools\\AppData\\Local\\Programs\\Python\\Python311\\Lib\\site-packages\\keras\\src\\losses.py:2976: The name tf.losses.sparse_softmax_cross_entropy is deprecated. Please use tf.compat.v1.losses.sparse_softmax_cross_entropy instead.\n",
      "\n"
     ]
    }
   ],
   "source": [
    "import pandas as pd\n",
    "import numpy as np\n",
    "import tensorflow as tf"
   ]
  },
  {
   "cell_type": "code",
   "execution_count": 2,
   "metadata": {},
   "outputs": [],
   "source": [
    "processed_pdf = pd.read_csv(\"player_df_processed.csv\")\n",
    "processed_tdf= pd.read_csv(\"team_df_top_features_processed.csv\")"
   ]
  },
  {
   "cell_type": "code",
   "execution_count": 4,
   "metadata": {},
   "outputs": [],
   "source": [
    "processed_pdf=processed_pdf.drop(\"Unnamed: 0\", axis=1)\n",
    "processed_tdf=processed_tdf.drop(\"Unnamed: 0\", axis=1)"
   ]
  },
  {
   "cell_type": "code",
   "execution_count": 5,
   "metadata": {},
   "outputs": [],
   "source": [
    "# lets take the first 700 matches in a season to predict the rest of the season\n",
    "# 1230 + (60-105) = 1290-1335\n",
    "# Create empty lists to store training and testing data\n",
    "train_data = []\n",
    "test_data = []\n",
    "\n",
    "train_player = []\n",
    "test_player = []\n",
    "\n",
    "def split_data(df, train, test):\n",
    "    # Iterate over unique years in the DataFrame\n",
    "    for year in df['season'].unique():\n",
    "        # Get all games for the current year\n",
    "        year_data = df[df['season'] == year]\n",
    "        \n",
    "        # Calculate the index to split the data based on the 2/3 - 1/3 ratio\n",
    "        split_index = int(len(year_data) * 2 / 3)\n",
    "        \n",
    "        # Split the data into training and testing sets\n",
    "        train_year = year_data.iloc[:split_index]\n",
    "        test_year = year_data.iloc[split_index:]\n",
    "        \n",
    "        # Append to the lists\n",
    "        train.append(train_year)\n",
    "        test.append(test_year)\n",
    "\n",
    "\n",
    "split_data(processed_tdf, train_data, test_data)\n",
    "split_data(processed_pdf, train_player, test_player)\n",
    "# Concatenate the training and testing data\n",
    "train_df = pd.concat(train_data)\n",
    "test_df = pd.concat(test_data)\n"
   ]
  },
  {
   "cell_type": "code",
   "execution_count": 7,
   "metadata": {},
   "outputs": [],
   "source": [
    "train_df_p = pd.concat(train_player)\n",
    "test_df_p = pd.concat(test_player)\n"
   ]
  },
  {
   "cell_type": "code",
   "execution_count": 27,
   "metadata": {},
   "outputs": [],
   "source": [
    "train_df=train_df.reset_index(drop=\"True\")\n",
    "test_df=test_df.reset_index(drop=\"True\")\n",
    "train_df_p=train_df_p.reset_index(drop=\"True\")\n",
    "test_df_p=test_df_p.reset_index(drop=\"True\")"
   ]
  },
  {
   "cell_type": "code",
   "execution_count": 11,
   "metadata": {},
   "outputs": [],
   "source": [
    "# Extract the column names for home and away players\n",
    "extra = [\"team\", \"team_opp\", \"date\", \"season\", \"won\"]\n",
    "away_players_columns = [col for col in train_df_p.columns if col.endswith('opp_82')]\n",
    "home_players_columns = [col for col in train_df_p.columns if 'opp_82' not in col and col not in extra]"
   ]
  },
  {
   "cell_type": "code",
   "execution_count": 12,
   "metadata": {},
   "outputs": [
    {
     "name": "stderr",
     "output_type": "stream",
     "text": [
      "C:\\Users\\cools\\AppData\\Local\\Temp\\ipykernel_14256\\2101520643.py:2: FutureWarning: unique with argument that is not not a Series, Index, ExtensionArray, or np.ndarray is deprecated and will raise in a future version.\n",
      "  players = pd.unique([col.split('_')[1] for col in train_df_p.columns if '_' in col and 'opp' not in col])\n",
      "C:\\Users\\cools\\AppData\\Local\\Temp\\ipykernel_14256\\2101520643.py:4: FutureWarning: unique with argument that is not not a Series, Index, ExtensionArray, or np.ndarray is deprecated and will raise in a future version.\n",
      "  features = pd.unique([col.split('_')[0] for col in train_df_p.columns if '_' in col and 'team' not in col])\n"
     ]
    }
   ],
   "source": [
    "# Extract the unique players\n",
    "players = pd.unique([col.split('_')[1] for col in train_df_p.columns if '_' in col and 'opp' not in col])\n",
    "# Extract the features columns\n",
    "features = pd.unique([col.split('_')[0] for col in train_df_p.columns if '_' in col and 'team' not in col])"
   ]
  },
  {
   "cell_type": "code",
   "execution_count": 28,
   "metadata": {},
   "outputs": [],
   "source": [
    "# Create an empty 4D matrix\n",
    "player_data_matrix = np.zeros((len(train_df_p), len(players), len(features), 2))  # 2 for home and away\n",
    "player_data_matrix_testset = np.zeros((len(test_df_p), len(players), len(features), 2))\n",
    "# Iterate over each game\n",
    "for i, game_row in train_df_p.iterrows():\n",
    "    # Iterate over home and away teams\n",
    "    for j, team in enumerate(['', '_opp']):\n",
    "        # Iterate over players\n",
    "        for k, player in enumerate(players):\n",
    "            # Get the player's data\n",
    "            player_data = game_row[[f'{feature}_{player}{team}_82' for feature in features]].values\n",
    "            if i >= len(player_data_matrix) or k >= len(player_data_matrix[0]):\n",
    "                print(f\"Index out of bounds - i: {i}, k: {k}\")\n",
    "            # Assign the player's data to the 4D matrix\n",
    "            player_data_matrix[i, k, :, j] = player_data\n",
    "\n",
    "for i, game_row in test_df_p.iterrows():\n",
    "    # Iterate over home and away teams\n",
    "    for j, team in enumerate(['', '_opp']):\n",
    "        # Iterate over players\n",
    "        for k, player in enumerate(players):\n",
    "            # Get the player's data\n",
    "            player_data = game_row[[f'{feature}_{player}{team}_82' for feature in features]].values\n",
    "            # Assign the player's data to the 4D matrix\n",
    "            player_data_matrix_testset[i, k, :, j] = player_data\n"
   ]
  },
  {
   "cell_type": "code",
   "execution_count": 29,
   "metadata": {},
   "outputs": [],
   "source": [
    "player_data_matrix_t=tf.convert_to_tensor(player_data_matrix)\n",
    "player_data_matrix_testset_t =tf.convert_to_tensor(player_data_matrix_testset)"
   ]
  },
  {
   "cell_type": "code",
   "execution_count": 40,
   "metadata": {},
   "outputs": [],
   "source": [
    "non_trainable_cols = [\"team\", \"team_opp\", \"date\", \"season\", \"won\"]\n",
    "target_matrix = train_df[\"won\"]\n",
    "\n",
    "team_data_matrix = train_df[[col for col in list(train_df.columns) if col not in non_trainable_cols]]\n",
    "team_testdata_matrix = test_df[[col for col in list(test_df.columns) if col not in non_trainable_cols]]"
   ]
  },
  {
   "cell_type": "code",
   "execution_count": 41,
   "metadata": {},
   "outputs": [],
   "source": [
    "team_data_matrix_t=tf.convert_to_tensor(team_data_matrix)\n",
    "team_testdata_matrix_t=tf.convert_to_tensor(team_testdata_matrix)"
   ]
  },
  {
   "cell_type": "code",
   "execution_count": 33,
   "metadata": {},
   "outputs": [],
   "source": [
    "from tensorflow.keras.models import Model, Sequential\n",
    "from tensorflow.keras.layers import Input, Dense, Dropout, Conv2D, Flatten, concatenate, GlobalAveragePooling2D\n",
    "from tensorflow.keras.regularizers import l2\n",
    "from tensorflow.keras.optimizers import Adam"
   ]
  },
  {
   "cell_type": "code",
   "execution_count": 34,
   "metadata": {},
   "outputs": [
    {
     "name": "stdout",
     "output_type": "stream",
     "text": [
      "WARNING:tensorflow:From c:\\Users\\cools\\AppData\\Local\\Programs\\Python\\Python311\\Lib\\site-packages\\keras\\src\\backend.py:1398: The name tf.executing_eagerly_outside_functions is deprecated. Please use tf.compat.v1.executing_eagerly_outside_functions instead.\n",
      "\n"
     ]
    },
    {
     "name": "stderr",
     "output_type": "stream",
     "text": [
      "WARNING:absl:`lr` is deprecated in Keras optimizer, please use `learning_rate` or use the legacy optimizer, e.g.,tf.keras.optimizers.legacy.Adam.\n"
     ]
    },
    {
     "name": "stdout",
     "output_type": "stream",
     "text": [
      "Model: \"model\"\n",
      "__________________________________________________________________________________________________\n",
      " Layer (type)                Output Shape                 Param #   Connected to                  \n",
      "==================================================================================================\n",
      " PlayerInput (InputLayer)    [(None, 8, 33, 2)]           0         []                            \n",
      "                                                                                                  \n",
      " Conv (Sequential)           (None, 6656)                 544       ['PlayerInput[0][0]']         \n",
      "                                                                                                  \n",
      " input_1 (InputLayer)        [(None, 30)]                 0         []                            \n",
      "                                                                                                  \n",
      " concatenate (Concatenate)   (None, 6686)                 0         ['Conv[0][0]',                \n",
      "                                                                     'input_1[0][0]']             \n",
      "                                                                                                  \n",
      " Dense64 (Dense)             (None, 32)                   213984    ['concatenate[0][0]']         \n",
      "                                                                                                  \n",
      " dropout (Dropout)           (None, 32)                   0         ['Dense64[0][0]']             \n",
      "                                                                                                  \n",
      " Dense16 (Dense)             (None, 8)                    264       ['dropout[0][0]']             \n",
      "                                                                                                  \n",
      " dropout_1 (Dropout)         (None, 8)                    0         ['Dense16[0][0]']             \n",
      "                                                                                                  \n",
      " Output (Dense)              (None, 1)                    9         ['dropout_1[0][0]']           \n",
      "                                                                                                  \n",
      "==================================================================================================\n",
      "Total params: 214801 (839.07 KB)\n",
      "Trainable params: 214801 (839.07 KB)\n",
      "Non-trainable params: 0 (0.00 Byte)\n",
      "__________________________________________________________________________________________________\n",
      "None\n"
     ]
    }
   ],
   "source": [
    "tf.random.set_seed(42)\n",
    "def get_model(player_shape, team_shape): \n",
    "    # Create Convolutional Network\n",
    "    conv_model = Sequential(name=\"Conv\")\n",
    "    conv_model.add(Conv2D(filters=32, kernel_size=(1, 8), input_shape=player_shape,\n",
    "                         data_format=\"channels_last\", \n",
    "                         activation=\"tanh\", name=\"Convolutional\"))\n",
    "    # Flatten the results\n",
    "    conv_model.add(Flatten(name=\"Flatten\"))\n",
    "    \n",
    "    # Wrap this first part of the network\n",
    "    X = Input(shape=player_shape, name=\"PlayerInput\")\n",
    "    conv_encoded = conv_model(X)\n",
    "    \n",
    "    # Create dense network with conv results and team data as inputs\n",
    "    dense_input = Input(shape=team_shape) \n",
    "    x = concatenate([conv_encoded, dense_input])\n",
    "    x = Dense(32, activation=\"tanh\", kernel_regularizer = l2(0.02876), name=\"Dense64\")(x) \n",
    "    x = Dropout(0.2)(x)\n",
    "    x = Dense(8, activation=\"tanh\", kernel_regularizer = l2(0.02875), name=\"Dense16\")(x)\n",
    "    x = Dropout(0.08)(x)\n",
    "    \n",
    "    # Output neuron\n",
    "    Y = Dense(1, activation='sigmoid', name=\"Output\")(x)\n",
    "    \n",
    "    opt = Adam(lr=0.001)\n",
    "    nba_model = Model(inputs=[X, dense_input], outputs=Y)\n",
    "    nba_model.compile(\n",
    "        optimizer=opt, \n",
    "        loss='binary_crossentropy',  \n",
    "        metrics = ['accuracy']\n",
    "    )\n",
    "    print(nba_model.summary())\n",
    "    \n",
    "    return nba_model\n",
    "\n",
    "model = get_model(\n",
    "    player_data_matrix_t[0].shape,\n",
    "    team_data_matrix_t[0].shape\n",
    ")"
   ]
  },
  {
   "cell_type": "code",
   "execution_count": 55,
   "metadata": {},
   "outputs": [
    {
     "name": "stdout",
     "output_type": "stream",
     "text": [
      "Epoch 1/30\n",
      "207/207 [==============================] - 1s 3ms/step - loss: 0.6547 - accuracy: 0.6309\n",
      "Epoch 2/30\n",
      "207/207 [==============================] - 1s 3ms/step - loss: 0.6576 - accuracy: 0.6295\n",
      "Epoch 3/30\n",
      "207/207 [==============================] - 1s 3ms/step - loss: 0.6565 - accuracy: 0.6277\n",
      "Epoch 4/30\n",
      "207/207 [==============================] - 1s 3ms/step - loss: 0.6587 - accuracy: 0.6314\n",
      "Epoch 5/30\n",
      "207/207 [==============================] - 1s 3ms/step - loss: 0.6564 - accuracy: 0.6323\n",
      "Epoch 6/30\n",
      "207/207 [==============================] - 1s 3ms/step - loss: 0.6644 - accuracy: 0.6292\n",
      "Epoch 7/30\n",
      "207/207 [==============================] - 1s 3ms/step - loss: 0.6595 - accuracy: 0.6312\n",
      "Epoch 8/30\n",
      "207/207 [==============================] - 1s 3ms/step - loss: 0.6581 - accuracy: 0.6344\n",
      "Epoch 9/30\n",
      "207/207 [==============================] - 1s 3ms/step - loss: 0.6548 - accuracy: 0.6294\n",
      "Epoch 10/30\n",
      "207/207 [==============================] - 1s 3ms/step - loss: 0.6563 - accuracy: 0.6318\n",
      "Epoch 11/30\n",
      "207/207 [==============================] - 1s 3ms/step - loss: 0.6556 - accuracy: 0.6303\n",
      "Epoch 12/30\n",
      "207/207 [==============================] - 1s 3ms/step - loss: 0.6551 - accuracy: 0.6394\n",
      "Epoch 13/30\n",
      "207/207 [==============================] - 1s 6ms/step - loss: 0.6577 - accuracy: 0.6335\n",
      "Epoch 14/30\n",
      "207/207 [==============================] - 1s 6ms/step - loss: 0.6539 - accuracy: 0.6323\n",
      "Epoch 15/30\n",
      "207/207 [==============================] - 1s 4ms/step - loss: 0.6569 - accuracy: 0.6261\n",
      "Epoch 16/30\n",
      "207/207 [==============================] - 1s 3ms/step - loss: 0.6553 - accuracy: 0.6365\n",
      "Epoch 17/30\n",
      "207/207 [==============================] - 1s 3ms/step - loss: 0.6550 - accuracy: 0.6309\n",
      "Epoch 18/30\n",
      "207/207 [==============================] - 1s 3ms/step - loss: 0.6629 - accuracy: 0.6253\n",
      "Epoch 19/30\n",
      "207/207 [==============================] - 1s 3ms/step - loss: 0.6580 - accuracy: 0.6288\n",
      "Epoch 20/30\n",
      "207/207 [==============================] - 1s 3ms/step - loss: 0.6556 - accuracy: 0.6277\n",
      "Epoch 21/30\n",
      "207/207 [==============================] - 1s 3ms/step - loss: 0.6540 - accuracy: 0.6315\n",
      "Epoch 22/30\n",
      "207/207 [==============================] - 1s 4ms/step - loss: 0.6555 - accuracy: 0.6276\n",
      "Epoch 23/30\n",
      "207/207 [==============================] - 1s 5ms/step - loss: 0.6556 - accuracy: 0.6333\n",
      "Epoch 24/30\n",
      "207/207 [==============================] - 1s 3ms/step - loss: 0.6579 - accuracy: 0.6321\n",
      "Epoch 25/30\n",
      "207/207 [==============================] - 1s 3ms/step - loss: 0.6584 - accuracy: 0.6342\n",
      "Epoch 26/30\n",
      "207/207 [==============================] - 1s 3ms/step - loss: 0.6582 - accuracy: 0.6320\n",
      "Epoch 27/30\n",
      "207/207 [==============================] - 1s 3ms/step - loss: 0.6634 - accuracy: 0.6291\n",
      "Epoch 28/30\n",
      "207/207 [==============================] - 1s 3ms/step - loss: 0.6546 - accuracy: 0.6303\n",
      "Epoch 29/30\n",
      "207/207 [==============================] - 1s 3ms/step - loss: 0.6582 - accuracy: 0.6350\n",
      "Epoch 30/30\n",
      "207/207 [==============================] - 1s 4ms/step - loss: 0.6553 - accuracy: 0.6379\n"
     ]
    }
   ],
   "source": [
    "history = model.fit(\n",
    "    [player_data_matrix_t, team_data_matrix_t],  # Input data\n",
    "    target_matrix,  # Target labels\n",
    "    epochs=30,  # Number of epochs (adjust as needed)\n",
    "    verbose=1  # Verbosity mode (you can set it to 0 for no output during training)\n",
    ")"
   ]
  },
  {
   "cell_type": "code",
   "execution_count": 57,
   "metadata": {},
   "outputs": [
    {
     "data": {
      "text/plain": [
       "<Axes: >"
      ]
     },
     "execution_count": 57,
     "metadata": {},
     "output_type": "execute_result"
    },
    {
     "data": {
      "image/png": "[encoded data removed]",
      "text/plain": [
       "<Figure size 640x480 with 1 Axes>"
      ]
     },
     "metadata": {},
     "output_type": "display_data"
    }
   ],
   "source": [
    "import matplotlib as plt\n",
    "\n",
    "pd.DataFrame(history.history).plot()\n"
   ]
  },
  {
   "cell_type": "code",
   "execution_count": 56,
   "metadata": {},
   "outputs": [
    {
     "name": "stdout",
     "output_type": "stream",
     "text": [
      "104/104 [==============================] - 0s 4ms/step - loss: 0.6542 - accuracy: 0.6294\n"
     ]
    }
   ],
   "source": [
    "results = model.evaluate([player_data_matrix_testset_t, team_testdata_matrix_t], test_df_p[\"won\"])"
   ]
  }
 ],
 "metadata": {
  "kernelspec": {
   "display_name": "Python 3",
   "language": "python",
   "name": "python3"
  },
  "language_info": {
   "codemirror_mode": {
    "name": "ipython",
    "version": 3
   },
   "file_extension": ".py",
   "mimetype": "text/x-python",
   "name": "python",
   "nbconvert_exporter": "python",
   "pygments_lexer": "ipython3",
   "version": "3.11.1"
  }
 },
 "nbformat": 4,
 "nbformat_minor": 2
}
