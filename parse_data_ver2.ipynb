{
 "cells": [
  {
   "cell_type": "code",
   "execution_count": null,
   "metadata": {},
   "outputs": [],
   "source": [
    "import os\n",
    "import pandas as pd\n",
    "from bs4 import BeautifulSoup\n",
    "import chardet"
   ]
  },
  {
   "cell_type": "code",
   "execution_count": null,
   "metadata": {},
   "outputs": [],
   "source": [
    "SCORE_DIR = \"data/scores\""
   ]
  },
  {
   "cell_type": "code",
   "execution_count": null,
   "metadata": {},
   "outputs": [],
   "source": [
    "box_scores = os.listdir(SCORE_DIR)"
   ]
  },
  {
   "cell_type": "code",
   "execution_count": null,
   "metadata": {},
   "outputs": [],
   "source": [
    "box_scores = [os.path.join(SCORE_DIR, f) for f in box_scores if f.endswith(\".html\")]"
   ]
  },
  {
   "cell_type": "code",
   "execution_count": null,
   "metadata": {},
   "outputs": [],
   "source": [
    "#cleaning the table and removing some columns/rows\n",
    "def parse_html(box_score):\n",
    "    with open(box_score, 'rb') as f:\n",
    "        result = chardet.detect(f.read())\n",
    "    detected_charset = result['encoding']\n",
    "    with open(box_score, encoding=detected_charset) as f:\n",
    "        html = f.read()\n",
    "    soup = BeautifulSoup(html)\n",
    "    [s.decompose() for s in soup.select(\"tr.over_header\")]\n",
    "    [s.decompose() for s in soup.select(\"tr.thead\")]\n",
    "    return soup\n",
    "\n",
    "def read_line_score(soup):\n",
    "    line_score = pd.read_html(str(soup), attrs={\"id\": \"line_score\"})[0]\n",
    "    home_line_score = line_score.iloc[-1:]\n",
    "    cols = list(home_line_score.columns)\n",
    "    cols[0] = \"team\"\n",
    "    cols[-1] = \"total\"\n",
    "    home_line_score.columns = cols\n",
    "    home_line_score = home_line_score[[\"team\", \"total\"]]\n",
    "\n",
    "    away_line_score = line_score.iloc[:1]\n",
    "    cols = list(away_line_score.columns)\n",
    "    cols[0] = \"team_opp\"\n",
    "    cols[-1] = \"total_opp\"\n",
    "    away_line_score.columns = cols\n",
    "    away_line_score = away_line_score[[\"team_opp\", \"total_opp\"]]\n",
    "\n",
    "    home_line_score =home_line_score.reset_index(drop=True)\n",
    "    away_line_score = away_line_score.reset_index(drop=True)\n",
    "\n",
    "    new_line_score = pd.concat([home_line_score, away_line_score], axis=1)\n",
    "    return new_line_score\n",
    "\n",
    "def read_stats(soup, team, stat):\n",
    "    df = pd.read_html(str(soup), attrs={\"id\": f\"box-{team}-game-{stat}\"}, index_col=0)[0]\n",
    "    df = df.apply(pd.to_numeric, errors=\"coerce\")\n",
    "    return df\n",
    "\n",
    "def read_season_info(soup):\n",
    "    #selecting first in list\n",
    "    nav = soup.select(\"#bottom_nav_container\")[0]\n",
    "    hrefs = [a[\"href\"] for a in nav.find_all(\"a\")]\n",
    "    season = os.path.basename(hrefs[1]).split(\"_\")[0]\n",
    "    return season"
   ]
  },
  {
   "cell_type": "code",
   "execution_count": null,
   "metadata": {},
   "outputs": [],
   "source": [
    "base_cols = None\n",
    "games = []\n",
    "for box_score in box_scores:\n",
    "    soup = parse_html(box_score)\n",
    "    line_score = read_line_score(soup)\n",
    "    teams = list([line_score[\"team\"], line_score[\"team_opp\"]])\n",
    "    summaries = pd.Series([])\n",
    "    next_team = False\n",
    "    for team in teams:\n",
    "        #get basic and advanced states\n",
    "        basic = read_stats(soup, team[0], \"basic\")\n",
    "        advanced = read_stats(soup, team[0], \"advanced\")\n",
    "\n",
    "        #gathering the total of both basic and advance stats and making it one row\n",
    "        totals = pd.concat([basic.iloc[-1,:], advanced.iloc[-1,:]])\n",
    "        totals.index = totals.index.str.lower()\n",
    "\n",
    "        #gathering the max and making it a row\n",
    "        maxes = pd.concat([basic.iloc[:-1,:].max(), advanced.iloc[:-1,:].max()])\n",
    "        maxes.index = maxes.index.str.lower() + \"_max\"\n",
    "\n",
    "        # concat both max and totals together\n",
    "        summary = pd.concat([totals, maxes])\n",
    "        #cleaning cols that we want and removing duplicates\n",
    "        if base_cols is None:\n",
    "            base_cols = list(summary.index.drop_duplicates(keep=\"first\"))\n",
    "            base_cols = [b for b in base_cols if \"bpm\" not in b]\n",
    "\n",
    "        summary = summary[base_cols]\n",
    "        #change title of col for away team\n",
    "        if next_team:\n",
    "            summary = summary.add_suffix(f'_opp')\n",
    "        \n",
    "        summaries = pd.concat([summaries] + [summary], axis=0)\n",
    "        next_team = True\n",
    "\n",
    "    summaries = summaries.to_frame()\n",
    "    summaries = summaries.transpose()\n",
    "    game = pd.concat([summaries, line_score], axis=1)\n",
    "    game[\"home\"] = 1\n",
    "    game[\"home_opp\"] = 0\n",
    "    #adding season to help provide information to training model\n",
    "    game[\"season\"] = read_season_info(soup)\n",
    "\n",
    "    game[\"date\"] = os.path.basename(box_score)[:8]\n",
    "    game[\"date\"] = pd.to_datetime(game[\"date\"], format=\"%Y%m%d\")\n",
    "\n",
    "    game[\"won\"] = game[\"total\"] > game[\"total_opp\"]\n",
    "\n",
    "\n",
    "    games.append(game)\n",
    "    \n",
    "    if len(games) % 100 == 0:\n",
    "        print(f\"{len(games)} / {len(box_scores)}\")"
   ]
  },
  {
   "cell_type": "code",
   "execution_count": null,
   "metadata": {},
   "outputs": [],
   "source": [
    "games_df = pd.concat(games, ignore_index=True)"
   ]
  },
  {
   "cell_type": "code",
   "execution_count": null,
   "metadata": {},
   "outputs": [],
   "source": [
    "games_df.to_csv(\"nba_games_v2.csv\")"
   ]
  }
 ],
 "metadata": {
  "kernelspec": {
   "display_name": "Python 3",
   "language": "python",
   "name": "python3"
  },
  "language_info": {
   "codemirror_mode": {
    "name": "ipython",
    "version": 3
   },
   "file_extension": ".py",
   "mimetype": "text/x-python",
   "name": "python",
   "nbconvert_exporter": "python",
   "pygments_lexer": "ipython3",
   "version": "3.11.1"
  }
 },
 "nbformat": 4,
 "nbformat_minor": 2
}
