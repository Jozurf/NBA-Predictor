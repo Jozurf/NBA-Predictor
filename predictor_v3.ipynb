{
 "cells": [
  {
   "cell_type": "code",
   "execution_count": 1,
   "metadata": {},
   "outputs": [
    {
     "name": "stdout",
     "output_type": "stream",
     "text": [
      "WARNING:tensorflow:From c:\\Users\\cools\\AppData\\Local\\Programs\\Python\\Python311\\Lib\\site-packages\\keras\\src\\losses.py:2976: The name tf.losses.sparse_softmax_cross_entropy is deprecated. Please use tf.compat.v1.losses.sparse_softmax_cross_entropy instead.\n",
      "\n"
     ]
    }
   ],
   "source": [
    "import pandas as pd\n",
    "import tensorflow as tf"
   ]
  },
  {
   "cell_type": "code",
   "execution_count": 2,
   "metadata": {},
   "outputs": [],
   "source": [
    "df = pd.read_csv(\"nba_games_v2.csv\", index_col=0)\n",
    "#sort by date so the previous values always already happen\n",
    "df = df.sort_values(\"date\")\n",
    "#resetting the column number\n",
    "df = df.reset_index(drop=True)"
   ]
  },
  {
   "cell_type": "code",
   "execution_count": 3,
   "metadata": {},
   "outputs": [],
   "source": [
    "#deleting redundant columns\n",
    "redundant_columns = [\"mp\", \"mp.1\", \"mp_opp.1\", \"mp_max.1\", \"mp_max_opp.1\", \"+/-\", \"+/-_opp\", \"+/-_max\", \"+/-_max_opp\", \"pts\", \"pts_opp\", \"pts_max\", \"pts_max_opp\", \"usg%\", \"usg%_max\", \"usg%_opp\", \"usg%_max_opp\"]\n",
    "for col in redundant_columns:\n",
    "    del df[col]\n"
   ]
  },
  {
   "cell_type": "code",
   "execution_count": 4,
   "metadata": {},
   "outputs": [],
   "source": [
    "nulls = pd.isnull(df)\n",
    "#sum up the null = true columns\n",
    "nulls = nulls.sum()\n",
    "nulls = nulls[nulls > 0] #only having the null columns\n",
    "#checking the df column if it is not in the nulls index\n",
    "valid_columns = df.columns[~df.columns.isin(nulls.index)]\n",
    "df = df[valid_columns].copy()"
   ]
  },
  {
   "cell_type": "code",
   "execution_count": 5,
   "metadata": {},
   "outputs": [],
   "source": [
    "# creating new columns net rtng, Assist turnover, Rebound Deferential & b2b\n",
    "df[\"net_rtg\"] = df[\"ortg\"] - df[\"drtg\"]\n",
    "df[\"net_rtg_opp\"] = df[\"ortg_opp\"] - df[\"drtg_opp\"]\n",
    "\n",
    "df[\"ast_tov\"] = df[\"ast\"] / df[\"tov\"]\n",
    "df[\"ast_tov_opp\"] = df[\"ast_opp\"] / df[\"tov_opp\"]\n",
    "\n",
    "df[\"rb_diff\"] = df[\"trb\"] - df[\"trb_opp\"]\n",
    "df[\"rb_diff_opp\"] = df[\"trb_opp\"] - df[\"trb\"]\n",
    "\n",
    "\n"
   ]
  },
  {
   "cell_type": "code",
   "execution_count": 6,
   "metadata": {},
   "outputs": [],
   "source": [
    "# prevent fragmentation\n",
    "df = df.copy()"
   ]
  },
  {
   "cell_type": "code",
   "execution_count": 7,
   "metadata": {},
   "outputs": [],
   "source": [
    "df[\"won_opp\"] = ~df[\"won\"]"
   ]
  },
  {
   "cell_type": "code",
   "execution_count": null,
   "metadata": {},
   "outputs": [],
   "source": []
  },
  {
   "cell_type": "code",
   "execution_count": 8,
   "metadata": {},
   "outputs": [],
   "source": [
    "# columns to retrieve past information from\n",
    "no_roll_columns = [\"season\", \"date\", \"team\", \"team_opp\", \"b2b\", \"b2b_opp\", \"home\", \"home_opp\", \"total\", \"total_opp\",]\n",
    "roll_columns = df.columns[~df.columns.isin(no_roll_columns)]\n",
    "roll_home_columns = [r for r in roll_columns if \"_opp\" not in r]\n",
    "roll_away_columns = [r for r in roll_columns if \"_opp\" in r]"
   ]
  },
  {
   "cell_type": "code",
   "execution_count": null,
   "metadata": {},
   "outputs": [],
   "source": []
  },
  {
   "cell_type": "code",
   "execution_count": 9,
   "metadata": {},
   "outputs": [],
   "source": [
    "window_sizes = [5, 82]\n",
    "all_rolling_columns = []\n",
    "    #using rolling average of the teams previous performance\n",
    "for window_size in window_sizes:\n",
    "    #define df_rolling\n",
    "    df_rolling = df[list(roll_home_columns) + [\"team\"]]\n",
    "    #define rolling function\n",
    "    def find_team_averages(team):\n",
    "        #shift(1) to obtain the rolling averages before this game\n",
    "        rolling = team[roll_home_columns].shift(1).rolling(window_size, min_periods=1).mean()\n",
    "        return rolling\n",
    "    #using rolling average on team\n",
    "    df_rolling = df_rolling.groupby([\"team\"], group_keys=False).apply(find_team_averages)\n",
    "    #renaming columns to avoid overlap when merging df and df_rolling\n",
    "    df_rolling = df_rolling.add_suffix(f'_{window_size}')\n",
    "    all_rolling_columns = all_rolling_columns + list(df_rolling.columns)\n",
    "    #adding columns to make a wide dataframe\n",
    "    df = pd.concat([df, df_rolling], axis=1)\n",
    "    df = df.copy()\n",
    "\n",
    "\n",
    "for window_size in window_sizes:\n",
    "    #define df_rolling\n",
    "    df_rolling = df[list(roll_away_columns) + [\"team_opp\",]]\n",
    "    #define rolling function\n",
    "    def find_team_averages(team):\n",
    "        #shift(1) to obtain the rolling averages before this game\n",
    "        rolling = team[roll_away_columns].shift(1).rolling(window_size, min_periods=1).mean()\n",
    "        return rolling\n",
    "    #using rolling average on team\n",
    "    df_rolling = df_rolling.groupby([\"team_opp\",], group_keys=False).apply(find_team_averages)\n",
    "    #renaming columns to avoid overlap when merging df and df_rolling\n",
    "    df_rolling = df_rolling.add_suffix(f'_{window_size}')\n",
    "    all_rolling_columns = all_rolling_columns + list(df_rolling.columns)\n",
    "    #adding columns to make a wide dataframe\n",
    "    df = pd.concat([df, df_rolling], axis=1)\n",
    "    df = df.copy()"
   ]
  },
  {
   "cell_type": "code",
   "execution_count": 10,
   "metadata": {},
   "outputs": [],
   "source": [
    "df = df.dropna()"
   ]
  },
  {
   "cell_type": "code",
   "execution_count": 11,
   "metadata": {},
   "outputs": [],
   "source": [
    "#scaling the data\n",
    "to_not_scale = [\"season\", \"date\", \"won\", \"team\", \"team_opp\", \"won_opp\"]\n",
    "scale_columns = df.columns[~df.columns.isin(to_not_scale)]"
   ]
  },
  {
   "cell_type": "code",
   "execution_count": 12,
   "metadata": {},
   "outputs": [],
   "source": [
    "from sklearn.preprocessing import MinMaxScaler\n",
    "scaler = MinMaxScaler()\n",
    "df[scale_columns] = scaler.fit_transform(df[scale_columns])"
   ]
  },
  {
   "cell_type": "code",
   "execution_count": null,
   "metadata": {},
   "outputs": [],
   "source": []
  },
  {
   "cell_type": "code",
   "execution_count": 13,
   "metadata": {},
   "outputs": [],
   "source": [
    "df = df.copy()"
   ]
  },
  {
   "cell_type": "code",
   "execution_count": 14,
   "metadata": {},
   "outputs": [],
   "source": [
    "df[[\"won\", \"won_opp\"]] = df[[\"won\", \"won_opp\"]].astype(int, errors=\"ignore\")"
   ]
  },
  {
   "cell_type": "code",
   "execution_count": 15,
   "metadata": {},
   "outputs": [],
   "source": [
    "features_to_pick = all_rolling_columns + [\"home\", \"home_opp\"]"
   ]
  },
  {
   "cell_type": "code",
   "execution_count": 16,
   "metadata": {},
   "outputs": [],
   "source": [
    "from sklearn.ensemble import GradientBoostingClassifier\n",
    "X = df[features_to_pick]\n",
    "y = df[\"won\"]\n",
    "features = X.columns\n",
    "rf = GradientBoostingClassifier()\n",
    "rf.fit(X, y)\n",
    "importances = rf.feature_importances_"
   ]
  },
  {
   "cell_type": "code",
   "execution_count": 17,
   "metadata": {},
   "outputs": [
    {
     "data": {
      "text/plain": [
       "[('net_rtg_82', 0.14808480850277572),\n",
       " ('net_rtg_opp_82', 0.09332637524113249),\n",
       " ('net_rtg_5', 0.0773366255391942),\n",
       " ('net_rtg_opp_5', 0.04216184979609045),\n",
       " ('won_82', 0.02468583128019011),\n",
       " ('won_opp_82', 0.02412017697178458),\n",
       " ('efg%_opp_82', 0.01898016040800889),\n",
       " ('3par_max_5', 0.013432329773888346),\n",
       " ('efg%_max_82', 0.012368904264386903),\n",
       " ('drb%_opp_5', 0.009614743330487814),\n",
       " ('3p%_5', 0.009530960822534447),\n",
       " ('trb%_82', 0.008578514067614895),\n",
       " ('ft_max_opp_82', 0.008478475273826856),\n",
       " ('stl%_max_opp_5', 0.008463118181016976),\n",
       " ('stl%_82', 0.008444846121391169),\n",
       " ('efg%_5', 0.007960358080207125),\n",
       " ('ast_82', 0.007937102009833785),\n",
       " ('ast%_max_5', 0.007906344598041806),\n",
       " ('ast%_82', 0.007896937635610224),\n",
       " ('ast_tov_82', 0.007872367100175828),\n",
       " ('ast_max_5', 0.007326459013214925),\n",
       " ('trb_82', 0.007061793087314523),\n",
       " ('ast_opp_82', 0.00695079096535944),\n",
       " ('ts%_82', 0.00691662283921374),\n",
       " ('fg_max_5', 0.006910207200991821),\n",
       " ('ortg_5', 0.00690181837659336),\n",
       " ('ft_max_5', 0.006606101463442436),\n",
       " ('ortg_max_5', 0.00655280470503402),\n",
       " ('stl%_max_5', 0.0065218784123375175),\n",
       " ('drb%_82', 0.006431148275697051),\n",
       " ('ast%_opp_82', 0.006029341430574399),\n",
       " ('fg%_max_82', 0.005890128431883386),\n",
       " ('rb_diff_82', 0.005819430851252924),\n",
       " ('drb%_opp_82', 0.005643125548823916),\n",
       " ('stl_max_82', 0.005431249227558699),\n",
       " ('drb_82', 0.005088403394446662),\n",
       " ('fta_max_opp_82', 0.005026396835971488),\n",
       " ('ast_5', 0.005017485465688137),\n",
       " ('3par_82', 0.005004238595708033),\n",
       " ('stl%_5', 0.00500278986580615),\n",
       " ('ts%_max_82', 0.00488502368693656),\n",
       " ('blk%_max_opp_82', 0.004720461896338493),\n",
       " ('3p%_max_5', 0.004635014041937421),\n",
       " ('ast%_opp_5', 0.0045978905716477425),\n",
       " ('3par_max_opp_5', 0.004524687718712058),\n",
       " ('3p_max_opp_82', 0.004407241446542997),\n",
       " ('pf_max_opp_82', 0.004360796065510722),\n",
       " ('fga_max_82', 0.004328692754107172),\n",
       " ('drb_max_5', 0.004318262761221649),\n",
       " ('ft%_opp_82', 0.0042972244626479465),\n",
       " ('fga_opp_5', 0.004240019250750671),\n",
       " ('ast%_max_opp_82', 0.004146644307562013),\n",
       " ('blk%_max_opp_5', 0.004100685332285795),\n",
       " ('ft%_82', 0.003956174454070189),\n",
       " ('ftr_opp_82', 0.0038504097891413846),\n",
       " ('orb_max_opp_82', 0.003816066772515773),\n",
       " ('trb%_max_opp_5', 0.0038154149880961995),\n",
       " ('fga_max_5', 0.003736300216915352),\n",
       " ('fg%_opp_82', 0.0037035196774779736),\n",
       " ('3par_opp_5', 0.0036481564116684),\n",
       " ('3pa_opp_82', 0.003606002249173809),\n",
       " ('fta_max_82', 0.0035767848330397643),\n",
       " ('ts%_opp_5', 0.0034951131318002497),\n",
       " ('ft_max_opp_5', 0.0034232642671361427),\n",
       " ('tov%_5', 0.0033466841814782855),\n",
       " ('trb_opp_82', 0.0033105235195238177),\n",
       " ('3pa_max_opp_82', 0.0033078347468877053),\n",
       " ('ast_max_opp_82', 0.0033063904325695112),\n",
       " ('blk%_max_82', 0.003252074165088116),\n",
       " ('drtg_5', 0.003238337789600073),\n",
       " ('drtg_opp_5', 0.0031518081388516293),\n",
       " ('tov%_max_5', 0.0030671887145609453),\n",
       " ('3p%_opp_5', 0.0030311590383617832),\n",
       " ('tov%_max_opp_5', 0.0030143071206585356),\n",
       " ('blk%_max_5', 0.0029844931570401838),\n",
       " ('stl%_max_82', 0.0029622676385151446),\n",
       " ('ortg_max_opp_5', 0.0029602972779125183),\n",
       " ('ft_opp_5', 0.0029302661935126655),\n",
       " ('stl_max_opp_5', 0.0028117389177695043),\n",
       " ('ortg_82', 0.002806589226744736),\n",
       " ('ftr_max_opp_82', 0.0027767271140679245),\n",
       " ('won_opp_5', 0.0027595383936903505),\n",
       " ('trb%_opp_82', 0.0027467440389830865),\n",
       " ('3p_opp_82', 0.0026212125756250888),\n",
       " ('rb_diff_opp_5', 0.002602032417501281),\n",
       " ('tov%_82', 0.002588679187086329),\n",
       " ('fg%_max_5', 0.002535954175085513),\n",
       " ('ts%_max_opp_5', 0.002516433549157386),\n",
       " ('ast_tov_opp_5', 0.002497789985647992),\n",
       " ('ts%_opp_82', 0.002495251270786129),\n",
       " ('tov%_opp_5', 0.002475315668115881),\n",
       " ('pf_5', 0.002474614372522238),\n",
       " ('fta_max_opp_5', 0.0024501867803261167),\n",
       " ('3p%_max_opp_82', 0.0024414794516211566),\n",
       " ('stl_max_opp_82', 0.0024405616755525726),\n",
       " ('pf_opp_5', 0.002418854665090309),\n",
       " ('drb_max_opp_5', 0.002399780565665176),\n",
       " ('fta_82', 0.002371722129123073),\n",
       " ('blk%_opp_5', 0.0023590328576952374),\n",
       " ('fg%_5', 0.002345618987734866),\n",
       " ('fg%_82', 0.002323565217680494),\n",
       " ('ast_max_opp_5', 0.002309692539805331),\n",
       " ('tov_5', 0.0022767799830868416),\n",
       " ('3pa_max_82', 0.0022390311164883813),\n",
       " ('trb_max_82', 0.0022113422207597684),\n",
       " ('tov_opp_82', 0.002196808462171886),\n",
       " ('efg%_max_opp_82', 0.0021724156567747297),\n",
       " ('trb_max_opp_82', 0.0021424463165745037),\n",
       " ('drtg_82', 0.002088102399105925),\n",
       " ('fg_max_opp_5', 0.0020607810180478595),\n",
       " ('fg_max_opp_82', 0.0020494309750679635),\n",
       " ('stl_82', 0.0020488075958141425),\n",
       " ('drb%_max_5', 0.002039874437340562),\n",
       " ('drb%_max_82', 0.0020350387216690603),\n",
       " ('ft%_opp_5', 0.002030337787138781),\n",
       " ('stl%_opp_5', 0.002017538909730421),\n",
       " ('drb%_max_opp_82', 0.0020139817113516553),\n",
       " ('3par_max_opp_82', 0.0020136324036069543),\n",
       " ('drtg_max_5', 0.0019853165804453368),\n",
       " ('3pa_opp_5', 0.001969647984842501),\n",
       " ('ast%_max_opp_5', 0.0019576306748933124),\n",
       " ('tov_max_82', 0.0019355063470402488),\n",
       " ('ortg_opp_82', 0.001920228289720409),\n",
       " ('pf_opp_82', 0.001886712892220598),\n",
       " ('blk_82', 0.0018821713373699304),\n",
       " ('drb_opp_82', 0.0018511282144416778),\n",
       " ('fg%_max_opp_82', 0.0018415467157349421),\n",
       " ('ft%_max_opp_82', 0.0018205337665401454),\n",
       " ('fta_5', 0.0017574893410593673),\n",
       " ('efg%_max_opp_5', 0.0017570774899418485),\n",
       " ('3p%_max_opp_5', 0.001747303878622394),\n",
       " ('fta_max_5', 0.001744886473518445),\n",
       " ('orb_opp_82', 0.0017096120794974406),\n",
       " ('stl%_max_opp_82', 0.001703618717411852),\n",
       " ('drb_opp_5', 0.0016752796753875178),\n",
       " ('ast%_max_82', 0.0016713546172144936),\n",
       " ('rb_diff_opp_82', 0.0016519956269738245),\n",
       " ('pf_max_82', 0.0016144897702618907),\n",
       " ('3p%_opp_82', 0.001580117836269085),\n",
       " ('ftr_max_opp_5', 0.0015674691025952554),\n",
       " ('ft%_max_82', 0.0015571722097918995),\n",
       " ('orb%_opp_5', 0.0015251611661334925),\n",
       " ('3pa_max_5', 0.00152197789158675),\n",
       " ('ftr_opp_5', 0.0014064561067530814),\n",
       " ('trb%_max_82', 0.0014024488317410351),\n",
       " ('ast_tov_opp_82', 0.001385669273214989),\n",
       " ('ft%_5', 0.0013198299954663777),\n",
       " ('drtg_max_opp_82', 0.0013131718027306867),\n",
       " ('trb%_opp_5', 0.0013041209311789132),\n",
       " ('3pa_5', 0.001296273894934738),\n",
       " ('3par_5', 0.0012843247980970202),\n",
       " ('blk_opp_5', 0.0012680032064565677),\n",
       " ('orb%_max_82', 0.0011943888850556195),\n",
       " ('3p%_82', 0.0011537705606196806),\n",
       " ('tov_82', 0.0011402624797961153),\n",
       " ('pf_82', 0.00113560402153122),\n",
       " ('tov%_max_82', 0.0011273919606196354),\n",
       " ('ast_tov_5', 0.001094966626767713),\n",
       " ('trb_5', 0.0010902497272100278),\n",
       " ('trb%_max_opp_82', 0.001087102930851853),\n",
       " ('fg_max_82', 0.0010822927613557505),\n",
       " ('efg%_opp_5', 0.0010810386046365117),\n",
       " ('mp_opp_82', 0.0010544780170396169),\n",
       " ('ortg_max_opp_82', 0.0010367123944893808),\n",
       " ('drtg_max_opp_5', 0.0010252831536021665),\n",
       " ('trb_max_5', 0.0010209054868038174),\n",
       " ('orb%_max_5', 0.0010206199243222758),\n",
       " ('blk_opp_82', 0.001017389456422051),\n",
       " ('orb_82', 0.0010028219648012906),\n",
       " ('orb%_opp_82', 0.0009773742779831571),\n",
       " ('ast_max_82', 0.0009191514385913997),\n",
       " ('blk_5', 0.0009189861575797743),\n",
       " ('fg_opp_82', 0.0009018623925220913),\n",
       " ('efg%_82', 0.0008878796237743361),\n",
       " ('trb%_max_5', 0.0008830212691890723),\n",
       " ('pf_max_5', 0.0008755609495210915),\n",
       " ('stl_opp_5', 0.0008569517775271006),\n",
       " ('3par_opp_82', 0.0008548053174487773),\n",
       " ('ftr_5', 0.0008525685739934066),\n",
       " ('3par_max_82', 0.000802120072391688),\n",
       " ('ast_opp_5', 0.0007726464627101972),\n",
       " ('ast%_5', 0.0007694955185012272),\n",
       " ('orb%_max_opp_82', 0.0007163828709674504),\n",
       " ('3p_max_82', 0.0007085472910720625),\n",
       " ('fga_max_opp_5', 0.0006888767905291563),\n",
       " ('trb_max_opp_5', 0.0006860610177217275),\n",
       " ('stl_5', 0.0006788626987168257),\n",
       " ('3p_5', 0.0006775060408340762),\n",
       " ('orb%_5', 0.0006544417137530456),\n",
       " ('drb%_max_opp_5', 0.0006455588247355605),\n",
       " ('trb%_5', 0.0005873370149265775),\n",
       " ('fg_opp_5', 0.0005435491894118555),\n",
       " ('tov%_opp_82', 0.0005341340494583931),\n",
       " ('stl_max_5', 0.0004652173235124097),\n",
       " ('ft_82', 0.0004514901906395562),\n",
       " ('blk%_5', 0.00043556541773904665),\n",
       " ('ftr_max_5', 0.00025615682106460433),\n",
       " ('drb_max_82', 0.0001300273132542936),\n",
       " ('orb_max_5', 5.887422384607766e-05),\n",
       " ('drb%_5', 2.2847049773907133e-05),\n",
       " ('rb_diff_5', 1.8848811445125607e-05),\n",
       " ('drtg_max_82', 1.4293374142223786e-05),\n",
       " ('fg_5', 0.0),\n",
       " ('fga_5', 0.0),\n",
       " ('ft_5', 0.0),\n",
       " ('orb_5', 0.0),\n",
       " ('drb_5', 0.0),\n",
       " ('ts%_5', 0.0),\n",
       " ('3p_max_5', 0.0),\n",
       " ('ft%_max_5', 0.0),\n",
       " ('blk_max_5', 0.0),\n",
       " ('tov_max_5', 0.0),\n",
       " ('ts%_max_5', 0.0),\n",
       " ('efg%_max_5', 0.0),\n",
       " ('won_5', 0.0),\n",
       " ('fg_82', 0.0),\n",
       " ('fga_82', 0.0),\n",
       " ('3p_82', 0.0),\n",
       " ('3pa_82', 0.0),\n",
       " ('ftr_82', 0.0),\n",
       " ('orb%_82', 0.0),\n",
       " ('blk%_82', 0.0),\n",
       " ('3p%_max_82', 0.0),\n",
       " ('ft_max_82', 0.0),\n",
       " ('orb_max_82', 0.0),\n",
       " ('blk_max_82', 0.0),\n",
       " ('ftr_max_82', 0.0),\n",
       " ('ortg_max_82', 0.0),\n",
       " ('mp_opp_5', 0.0),\n",
       " ('fg%_opp_5', 0.0),\n",
       " ('3p_opp_5', 0.0),\n",
       " ('fta_opp_5', 0.0),\n",
       " ('orb_opp_5', 0.0),\n",
       " ('trb_opp_5', 0.0),\n",
       " ('tov_opp_5', 0.0),\n",
       " ('ortg_opp_5', 0.0),\n",
       " ('fg%_max_opp_5', 0.0),\n",
       " ('3p_max_opp_5', 0.0),\n",
       " ('3pa_max_opp_5', 0.0),\n",
       " ('ft%_max_opp_5', 0.0),\n",
       " ('orb_max_opp_5', 0.0),\n",
       " ('blk_max_opp_5', 0.0),\n",
       " ('tov_max_opp_5', 0.0),\n",
       " ('pf_max_opp_5', 0.0),\n",
       " ('orb%_max_opp_5', 0.0),\n",
       " ('fga_opp_82', 0.0),\n",
       " ('ft_opp_82', 0.0),\n",
       " ('fta_opp_82', 0.0),\n",
       " ('stl_opp_82', 0.0),\n",
       " ('stl%_opp_82', 0.0),\n",
       " ('blk%_opp_82', 0.0),\n",
       " ('drtg_opp_82', 0.0),\n",
       " ('fga_max_opp_82', 0.0),\n",
       " ('drb_max_opp_82', 0.0),\n",
       " ('blk_max_opp_82', 0.0),\n",
       " ('tov_max_opp_82', 0.0),\n",
       " ('ts%_max_opp_82', 0.0),\n",
       " ('tov%_max_opp_82', 0.0),\n",
       " ('home', 0.0),\n",
       " ('home_opp', 0.0)]"
      ]
     },
     "execution_count": 17,
     "metadata": {},
     "output_type": "execute_result"
    }
   ],
   "source": [
    "# Create a list of tuples where each tuple contains the feature and its importance\n",
    "feature_importance_tuples = list(zip(features, importances))\n",
    "\n",
    "# Sort the list of tuples based on the importance scores in descending order\n",
    "sorted_feature_importance = sorted(feature_importance_tuples, key=lambda x: x[1], reverse=True)\n",
    "sorted_feature_importance"
   ]
  },
  {
   "cell_type": "code",
   "execution_count": 18,
   "metadata": {},
   "outputs": [
    {
     "data": {
      "text/plain": [
       "['net_rtg_82',\n",
       " 'net_rtg_opp_82',\n",
       " 'net_rtg_5',\n",
       " 'net_rtg_opp_5',\n",
       " 'won_82',\n",
       " 'won_opp_82',\n",
       " 'efg%_opp_82',\n",
       " '3par_max_5',\n",
       " 'efg%_max_82',\n",
       " 'drb%_opp_5',\n",
       " '3p%_5',\n",
       " 'trb%_82',\n",
       " 'ft_max_opp_82',\n",
       " 'stl%_max_opp_5',\n",
       " 'stl%_82',\n",
       " 'efg%_5',\n",
       " 'ast_82',\n",
       " 'ast%_max_5',\n",
       " 'ast%_82',\n",
       " 'ast_tov_82',\n",
       " 'ast_max_5',\n",
       " 'trb_82',\n",
       " 'ast_opp_82',\n",
       " 'ts%_82',\n",
       " 'fg_max_5',\n",
       " 'ortg_5',\n",
       " 'ft_max_5',\n",
       " 'ortg_max_5',\n",
       " 'stl%_max_5',\n",
       " 'drb%_82',\n",
       " 'ast%_opp_82',\n",
       " 'fg%_max_82',\n",
       " 'rb_diff_82',\n",
       " 'drb%_opp_82',\n",
       " 'stl_max_82',\n",
       " 'drb_82',\n",
       " 'fta_max_opp_82',\n",
       " 'ast_5',\n",
       " '3par_82',\n",
       " 'stl%_5',\n",
       " 'ts%_max_82',\n",
       " 'blk%_max_opp_82',\n",
       " '3p%_max_5',\n",
       " 'ast%_opp_5',\n",
       " '3par_max_opp_5',\n",
       " '3p_max_opp_82',\n",
       " 'pf_max_opp_82',\n",
       " 'fga_max_82',\n",
       " 'drb_max_5',\n",
       " 'ft%_opp_82']"
      ]
     },
     "execution_count": 18,
     "metadata": {},
     "output_type": "execute_result"
    }
   ],
   "source": [
    "# Extract the top features\n",
    "top_features = [feature[0] for feature in sorted_feature_importance[:50] if feature[1] > 0]\n",
    "top_features"
   ]
  },
  {
   "cell_type": "code",
   "execution_count": 36,
   "metadata": {},
   "outputs": [],
   "source": [
    "tensortotal = pd.concat([df[features_to_pick], df[\"won\"]], axis=1)\n"
   ]
  },
  {
   "cell_type": "code",
   "execution_count": 37,
   "metadata": {},
   "outputs": [],
   "source": [
    "tensorX = tf.convert_to_tensor(tensortotal[top_features])\n",
    "tensorY = tf.convert_to_tensor(tensortotal[\"won\"])\n"
   ]
  },
  {
   "cell_type": "code",
   "execution_count": 38,
   "metadata": {},
   "outputs": [
    {
     "data": {
      "text/plain": [
       "<tf.Tensor: shape=(10165, 50), dtype=float64, numpy=\n",
       "array([[0.08527132, 0.60122699, 0.08527132, ..., 0.33333333, 0.2       ,\n",
       "        0.14346895],\n",
       "       [0.29767442, 0.35787321, 0.29767442, ..., 0.26666667, 0.2       ,\n",
       "        0.48394004],\n",
       "       [0.57829457, 0.88752556, 0.57829457, ..., 0.13333333, 0.3       ,\n",
       "        0.67880086],\n",
       "       ...,\n",
       "       [0.54592551, 0.58214874, 0.55658915, ..., 0.40406504, 0.4       ,\n",
       "        0.55301092],\n",
       "       [0.54163358, 0.58234825, 0.47813953, ..., 0.40894309, 0.42      ,\n",
       "        0.54817987],\n",
       "       [0.597353  , 0.58803432, 0.60620155, ..., 0.48943089, 0.62      ,\n",
       "        0.59745652]])>"
      ]
     },
     "execution_count": 38,
     "metadata": {},
     "output_type": "execute_result"
    }
   ],
   "source": [
    "tensorX"
   ]
  },
  {
   "cell_type": "code",
   "execution_count": 39,
   "metadata": {},
   "outputs": [],
   "source": [
    "# Define the number of rows for testing\n",
    "num_test_rows = 82\n",
    "\n",
    "# Split the data into training and testing sets\n",
    "X_train, X_test = tensorX[:-num_test_rows, :], tensorX[-num_test_rows:, :]\n",
    "y_train, y_test = tensorY[:-num_test_rows], tensorY[-num_test_rows:]"
   ]
  },
  {
   "cell_type": "code",
   "execution_count": 40,
   "metadata": {},
   "outputs": [
    {
     "name": "stdout",
     "output_type": "stream",
     "text": [
      "Epoch 1/20\n",
      "316/316 [==============================] - 1s 1ms/step - loss: 0.6871 - accuracy: 0.5704\n",
      "Epoch 2/20\n",
      "316/316 [==============================] - 0s 2ms/step - loss: 0.6823 - accuracy: 0.5727\n",
      "Epoch 3/20\n",
      "316/316 [==============================] - 0s 1ms/step - loss: 0.6779 - accuracy: 0.5731\n",
      "Epoch 4/20\n",
      "316/316 [==============================] - 0s 1ms/step - loss: 0.6735 - accuracy: 0.5743\n",
      "Epoch 5/20\n",
      "316/316 [==============================] - 0s 1ms/step - loss: 0.6688 - accuracy: 0.5784\n",
      "Epoch 6/20\n",
      "316/316 [==============================] - 0s 1ms/step - loss: 0.6640 - accuracy: 0.5940\n",
      "Epoch 7/20\n",
      "316/316 [==============================] - 0s 1ms/step - loss: 0.6587 - accuracy: 0.6087\n",
      "Epoch 8/20\n",
      "316/316 [==============================] - 0s 1ms/step - loss: 0.6535 - accuracy: 0.6144\n",
      "Epoch 9/20\n",
      "316/316 [==============================] - 0s 1ms/step - loss: 0.6490 - accuracy: 0.6244\n",
      "Epoch 10/20\n",
      "316/316 [==============================] - 0s 1ms/step - loss: 0.6452 - accuracy: 0.6288\n",
      "Epoch 11/20\n",
      "316/316 [==============================] - 0s 1ms/step - loss: 0.6420 - accuracy: 0.6331\n",
      "Epoch 12/20\n",
      "316/316 [==============================] - 0s 1ms/step - loss: 0.6394 - accuracy: 0.6328\n",
      "Epoch 13/20\n",
      "316/316 [==============================] - 0s 1ms/step - loss: 0.6380 - accuracy: 0.6328\n",
      "Epoch 14/20\n",
      "316/316 [==============================] - 0s 1ms/step - loss: 0.6367 - accuracy: 0.6359\n",
      "Epoch 15/20\n",
      "316/316 [==============================] - 0s 1ms/step - loss: 0.6366 - accuracy: 0.6352\n",
      "Epoch 16/20\n",
      "316/316 [==============================] - 0s 1ms/step - loss: 0.6353 - accuracy: 0.6373\n",
      "Epoch 17/20\n",
      "316/316 [==============================] - 0s 1ms/step - loss: 0.6349 - accuracy: 0.6376\n",
      "Epoch 18/20\n",
      "316/316 [==============================] - 0s 1ms/step - loss: 0.6343 - accuracy: 0.6379\n",
      "Epoch 19/20\n",
      "316/316 [==============================] - 0s 1ms/step - loss: 0.6342 - accuracy: 0.6391\n",
      "Epoch 20/20\n",
      "316/316 [==============================] - 0s 1ms/step - loss: 0.6347 - accuracy: 0.6391\n"
     ]
    },
    {
     "data": {
      "text/plain": [
       "<keras.src.callbacks.History at 0x16efaebbd90>"
      ]
     },
     "execution_count": 40,
     "metadata": {},
     "output_type": "execute_result"
    }
   ],
   "source": [
    "#set random seed\n",
    "tf.random.set_seed(42)\n",
    "\n",
    "#create model\n",
    "model = tf.keras.Sequential([\n",
    "    tf.keras.Input(shape=(50,)),\n",
    "    tf.keras.layers.Dense(32, activation=\"tanh\"),\n",
    "    tf.keras.layers.Dense(16, activation=\"tanh\"),\n",
    "    tf.keras.layers.Dense(1, activation=\"sigmoid\")\n",
    "])\n",
    "\n",
    "#compile the model\n",
    "model.compile(\n",
    "    loss=tf.keras.losses.BinaryCrossentropy(),\n",
    "    optimizer=tf.keras.optimizers.Adam(),\n",
    "    metrics=[\"accuracy\"]\n",
    ")\n",
    "\n",
    "model.fit(X_train, y_train, epochs=20)"
   ]
  },
  {
   "cell_type": "code",
   "execution_count": 41,
   "metadata": {},
   "outputs": [
    {
     "name": "stdout",
     "output_type": "stream",
     "text": [
      "WARNING:tensorflow:5 out of the last 13 calls to <function Model.make_test_function.<locals>.test_function at 0x0000016EFAC6B740> triggered tf.function retracing. Tracing is expensive and the excessive number of tracings could be due to (1) creating @tf.function repeatedly in a loop, (2) passing tensors with different shapes, (3) passing Python objects instead of tensors. For (1), please define your @tf.function outside of the loop. For (2), @tf.function has reduce_retracing=True option that can avoid unnecessary retracing. For (3), please refer to https://www.tensorflow.org/guide/function#controlling_retracing and https://www.tensorflow.org/api_docs/python/tf/function for  more details.\n",
      "3/3 [==============================] - 0s 3ms/step - loss: 0.6797 - accuracy: 0.5610\n"
     ]
    },
    {
     "data": {
      "text/plain": [
       "[0.679732620716095, 0.5609756112098694]"
      ]
     },
     "execution_count": 41,
     "metadata": {},
     "output_type": "execute_result"
    }
   ],
   "source": [
    "model.evaluate(X_test, y_test)"
   ]
  }
 ],
 "metadata": {
  "kernelspec": {
   "display_name": "Python 3",
   "language": "python",
   "name": "python3"
  },
  "language_info": {
   "codemirror_mode": {
    "name": "ipython",
    "version": 3
   },
   "file_extension": ".py",
   "mimetype": "text/x-python",
   "name": "python",
   "nbconvert_exporter": "python",
   "pygments_lexer": "ipython3",
   "version": "3.11.1"
  }
 },
 "nbformat": 4,
 "nbformat_minor": 2
}
